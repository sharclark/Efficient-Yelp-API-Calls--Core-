{
 "cells": [
  {
   "cell_type": "code",
   "execution_count": 1,
   "id": "a0f1ba78",
   "metadata": {},
   "outputs": [],
   "source": [
    "# Standard Imports\n",
    "import numpy as np\n",
    "import pandas as pd\n",
    "import matplotlib.pyplot as plt\n",
    "import seaborn as sns\n",
    "\n",
    "# Additional Imports\n",
    "import os, json, math, time\n",
    "from yelpapi import YelpAPI\n",
    "from tqdm.notebook import tqdm_notebook"
   ]
  },
  {
   "cell_type": "code",
   "execution_count": 3,
   "id": "d0521938",
   "metadata": {},
   "outputs": [
    {
     "data": {
      "text/plain": [
       "<yelpapi.yelpapi.YelpAPI at 0x10574b5e0>"
      ]
     },
     "execution_count": 3,
     "metadata": {},
     "output_type": "execute_result"
    }
   ],
   "source": [
    "# Load API Credentials\n",
    "with open('/Users/sharheatherclark/.secret/yelp_api.json') as f:   \n",
    "    login = json.load(f)\n",
    "# Instantiate YelpAPI Variable\n",
    "yelp_api = YelpAPI(login['api-key'], timeout_s=5.0)\n",
    "yelp_api"
   ]
  },
  {
   "cell_type": "code",
   "execution_count": 4,
   "id": "7d9937f3",
   "metadata": {},
   "outputs": [],
   "source": [
    "LOCATION = 'Grover Beach, CA'\n",
    "TERM = 'Sushi'"
   ]
  },
  {
   "cell_type": "code",
   "execution_count": 5,
   "id": "6325095c",
   "metadata": {},
   "outputs": [
    {
     "data": {
      "text/plain": [
       "'Data/results_inprogress_GB_Sushi.json'"
      ]
     },
     "execution_count": 5,
     "metadata": {},
     "output_type": "execute_result"
    }
   ],
   "source": [
    "JSON_FILE = \"Data/results_inprogress_GB_Sushi.json\"\n",
    "JSON_FILE"
   ]
  },
  {
   "cell_type": "code",
   "execution_count": 6,
   "id": "f059bfde",
   "metadata": {},
   "outputs": [
    {
     "name": "stdout",
     "output_type": "stream",
     "text": [
      "[i] Data/results_inprogress_GB_Sushi.json not found. Saving empty list to file.\n"
     ]
    }
   ],
   "source": [
    "## Check if JSON_FILE exists\n",
    "file_exists = os.path.isfile(JSON_FILE)\n",
    "## If it does not exist: \n",
    "if file_exists == False:\n",
    "    \n",
    "    ## CREATE ANY NEEDED FOLDERS\n",
    "    # Get the Folder Name only\n",
    "    folder = os.path.dirname(JSON_FILE)\n",
    "    ## If JSON_FILE included a folder:\n",
    "    if len(folder)>0:\n",
    "        # create the folder\n",
    "        os.makedirs(folder,exist_ok=True)\n",
    "        \n",
    "        \n",
    "    ## INFORM USER AND SAVE EMPTY LIST\n",
    "    print(f'[i] {JSON_FILE} not found. Saving empty list to file.')\n",
    "    \n",
    "    \n",
    "    # save an empty list\n",
    "    with open(JSON_FILE,'w') as f:\n",
    "        json.dump([],f)  \n",
    "# If it exists, inform user\n",
    "else:\n",
    "    print(f\"[i] {JSON_FILE} already exists.\")"
   ]
  },
  {
   "cell_type": "code",
   "execution_count": 7,
   "id": "f593609c",
   "metadata": {},
   "outputs": [
    {
     "name": "stdout",
     "output_type": "stream",
     "text": [
      "- 0 previous results found.\n"
     ]
    }
   ],
   "source": [
    "## Load previous results and use len of results for offset\n",
    "with open(JSON_FILE,'r') as f:\n",
    "    previous_results = json.load(f)\n",
    "    # this code above renames file previous results instead of JSON_FILE\n",
    "    \n",
    "## set offset based on previous results\n",
    "n_results = len(previous_results)\n",
    "print(f'- {n_results} previous results found.')"
   ]
  },
  {
   "cell_type": "code",
   "execution_count": 8,
   "id": "2be00a1f",
   "metadata": {},
   "outputs": [
    {
     "data": {
      "text/plain": [
       "dict_keys(['businesses', 'total', 'region'])"
      ]
     },
     "execution_count": 8,
     "metadata": {},
     "output_type": "execute_result"
    }
   ],
   "source": [
    "\n",
    "results = yelp_api.search_query(location=LOCATION,\n",
    "                                term=TERM,\n",
    "                               offset=n_results)\n",
    "results.keys()"
   ]
  },
  {
   "cell_type": "code",
   "execution_count": 9,
   "id": "b6085ac1",
   "metadata": {},
   "outputs": [
    {
     "data": {
      "text/plain": [
       "27"
      ]
     },
     "execution_count": 9,
     "metadata": {},
     "output_type": "execute_result"
    }
   ],
   "source": [
    "## How many results total?\n",
    "total_results = results['total']\n",
    "total_results"
   ]
  },
  {
   "cell_type": "code",
   "execution_count": 10,
   "id": "5b8fb5e7",
   "metadata": {},
   "outputs": [
    {
     "data": {
      "text/plain": [
       "20"
      ]
     },
     "execution_count": 10,
     "metadata": {},
     "output_type": "execute_result"
    }
   ],
   "source": [
    "## How many did we get the details for?\n",
    "results_per_page = len(results['businesses'])\n",
    "results_per_page\n"
   ]
  },
  {
   "cell_type": "code",
   "execution_count": 11,
   "id": "fea1dfa2",
   "metadata": {},
   "outputs": [
    {
     "data": {
      "text/plain": [
       "2"
      ]
     },
     "execution_count": 11,
     "metadata": {},
     "output_type": "execute_result"
    }
   ],
   "source": [
    "# Import additional packages for controlling our loop\n",
    "import time, math\n",
    "\n",
    "# Use math.ceil to round up for the total number of pages of results.\n",
    "n_pages = math.ceil((results['total']-n_results)/ results_per_page)\n",
    "n_pages"
   ]
  },
  {
   "cell_type": "code",
   "execution_count": 13,
   "id": "0936bef4",
   "metadata": {},
   "outputs": [],
   "source": [
    "# join new results with old list with extend and save to file\n",
    "previous_results.extend(results['businesses'])  \n",
    "with open(JSON_FILE,'w') as f:\n",
    "     json.dump(previous_results,f)"
   ]
  },
  {
   "cell_type": "code",
   "execution_count": 14,
   "id": "1788482b",
   "metadata": {},
   "outputs": [
    {
     "data": {
      "application/vnd.jupyter.widget-view+json": {
       "model_id": "babb474cb6324d4c91700a152455aaa5",
       "version_major": 2,
       "version_minor": 0
      },
      "text/plain": [
       "  0%|          | 0/2 [00:00<?, ?it/s]"
      ]
     },
     "metadata": {},
     "output_type": "display_data"
    }
   ],
   "source": [
    "for i in tqdm_notebook( range(1,n_pages+1)):\n",
    "    \n",
    "    ## Read in results in progress file and check the length\n",
    "    with open(JSON_FILE, 'r') as f:\n",
    "        previous_results = json.load(f)\n",
    "    ## save number of results for to use as offset\n",
    "    n_results = len(previous_results)\n",
    "    ## use n_results as the OFFSET \n",
    "    results = yelp_api.search_query(location=LOCATION,\n",
    "                                    term=TERM, \n",
    "                                    offset=n_results)\n",
    "    \n",
    "    ## append new results and save to file\n",
    "    previous_results.extend(results['businesses'])\n",
    "    \n",
    "    with open(JSON_FILE,'w') as f:\n",
    "        json.dump(previous_results,f)\n",
    "    \n",
    "    # add a 200ms pause\n",
    "    time.sleep(.2)"
   ]
  },
  {
   "cell_type": "code",
   "execution_count": 15,
   "id": "d8f473b1",
   "metadata": {},
   "outputs": [],
   "source": [
    "def create_json_file(JSON_FILE,  delete_if_exists=False):\n",
    "    \n",
    "    ## Check if JSON_FILE exists\n",
    "    file_exists = os.path.isfile(JSON_FILE)\n",
    "    \n",
    "    ## If it DOES exist:\n",
    "    if file_exists == True:\n",
    "        \n",
    "        ## Check if user wants to delete if exists\n",
    "        if delete_if_exists==True:\n",
    "            \n",
    "            print(f\"[!] {JSON_FILE} already exists. Deleting previous file...\")\n",
    "            ## delete file and confirm it no longer exits.\n",
    "            os.remove(JSON_FILE)\n",
    "            ## Recursive call to function after old file deleted\n",
    "            create_json_file(JSON_FILE,delete_if_exists=False)\n",
    "        else:\n",
    "            print(f\"[i] {JSON_FILE} already exists.\")            \n",
    "            \n",
    "            \n",
    "    ## If it does NOT exist:\n",
    "    else:\n",
    "        \n",
    "        ## INFORM USER AND SAVE EMPTY LIST\n",
    "        print(f\"[i] {JSON_FILE} not found. Saving empty list to new file.\")\n",
    "        \n",
    "        ## CREATE ANY NEEDED FOLDERS\n",
    "        # Get the Folder Name only\n",
    "        folder = os.path.dirname(JSON_FILE)\n",
    "        \n",
    "        ## If JSON_FILE included a folder:\n",
    "        if len(folder)>0:\n",
    "            # create the folder\n",
    "            os.makedirs(folder,exist_ok=True)\n",
    "        ## Save empty list to start the json file\n",
    "        with open(JSON_FILE,'w') as f:\n",
    "            json.dump([],f)"
   ]
  },
  {
   "cell_type": "code",
   "execution_count": 16,
   "id": "4d3759da",
   "metadata": {},
   "outputs": [
    {
     "name": "stdout",
     "output_type": "stream",
     "text": [
      "[!] Data/results_inprogress_GB_Sushi.json already exists. Deleting previous file...\n",
      "[i] Data/results_inprogress_GB_Sushi.json not found. Saving empty list to new file.\n",
      "- 0 previous results found.\n"
     ]
    },
    {
     "data": {
      "text/plain": [
       "2"
      ]
     },
     "execution_count": 16,
     "metadata": {},
     "output_type": "execute_result"
    }
   ],
   "source": [
    "## Create a new empty json file (exist the previous if it exists)\n",
    "create_json_file(JSON_FILE, delete_if_exists=True)\n",
    "## Load previous results and use len of results for offset\n",
    "with open(JSON_FILE,'r') as f:\n",
    "    previous_results = json.load(f)\n",
    "    \n",
    "## set offset based on previous results\n",
    "n_results = len(previous_results)\n",
    "print(f'- {n_results} previous results found.')\n",
    "# use our yelp_api variable's search_query method to perform our API call\n",
    "results = yelp_api.search_query(location=LOCATION,\n",
    "                                term=TERM,\n",
    "                               offset=n_results)\n",
    "## How many results total?\n",
    "total_results = results['total']\n",
    "## How many did we get the details for?\n",
    "results_per_page = len(results['businesses'])\n",
    "# Use math.ceil to round up for the total number of pages of results.\n",
    "n_pages = math.ceil((results['total']-n_results)/ results_per_page)\n",
    "n_pages"
   ]
  },
  {
   "cell_type": "code",
   "execution_count": 17,
   "id": "b2459d97",
   "metadata": {},
   "outputs": [
    {
     "data": {
      "application/vnd.jupyter.widget-view+json": {
       "model_id": "d2a0cd4903ad457d8c68fe1351a7254e",
       "version_major": 2,
       "version_minor": 0
      },
      "text/plain": [
       "  0%|          | 0/2 [00:00<?, ?it/s]"
      ]
     },
     "metadata": {},
     "output_type": "display_data"
    }
   ],
   "source": [
    "for i in tqdm_notebook( range(1,n_pages+1)):\n",
    "    \n",
    "    ## Read in results in progress file and check the length\n",
    "    with open(JSON_FILE, 'r') as f:\n",
    "        previous_results = json.load(f)\n",
    "    ## save number of results for to use as offset\n",
    "    n_results = len(previous_results)\n",
    "    \n",
    "    if (n_results + results_per_page) > 1000:\n",
    "        print('Exceeded 1000 api calls. Stopping loop.')\n",
    "        break\n",
    "    \n",
    "    ## use n_results as the OFFSET \n",
    "    results = yelp_api.search_query(location=LOCATION,\n",
    "                                    term=TERM, \n",
    "                                    offset=n_results)\n",
    "    \n",
    "    \n",
    "    \n",
    "    ## append new results and save to file\n",
    "    previous_results.extend(results['businesses'])\n",
    "    \n",
    "    # display(previous_results)\n",
    "    with open(JSON_FILE,'w') as f:\n",
    "        json.dump(previous_results,f)\n",
    "    \n",
    "    time.sleep(.2)"
   ]
  },
  {
   "cell_type": "code",
   "execution_count": 18,
   "id": "df09bcde",
   "metadata": {},
   "outputs": [
    {
     "data": {
      "text/html": [
       "<div>\n",
       "<style scoped>\n",
       "    .dataframe tbody tr th:only-of-type {\n",
       "        vertical-align: middle;\n",
       "    }\n",
       "\n",
       "    .dataframe tbody tr th {\n",
       "        vertical-align: top;\n",
       "    }\n",
       "\n",
       "    .dataframe thead th {\n",
       "        text-align: right;\n",
       "    }\n",
       "</style>\n",
       "<table border=\"1\" class=\"dataframe\">\n",
       "  <thead>\n",
       "    <tr style=\"text-align: right;\">\n",
       "      <th></th>\n",
       "      <th>id</th>\n",
       "      <th>alias</th>\n",
       "      <th>name</th>\n",
       "      <th>image_url</th>\n",
       "      <th>is_closed</th>\n",
       "      <th>url</th>\n",
       "      <th>review_count</th>\n",
       "      <th>categories</th>\n",
       "      <th>rating</th>\n",
       "      <th>coordinates</th>\n",
       "      <th>transactions</th>\n",
       "      <th>price</th>\n",
       "      <th>location</th>\n",
       "      <th>phone</th>\n",
       "      <th>display_phone</th>\n",
       "      <th>distance</th>\n",
       "    </tr>\n",
       "  </thead>\n",
       "  <tbody>\n",
       "    <tr>\n",
       "      <th>0</th>\n",
       "      <td>MS7OyuKNSXUYP3OjXN4wQg</td>\n",
       "      <td>izakaya-raku-grover-beach</td>\n",
       "      <td>Izakaya Raku</td>\n",
       "      <td>https://s3-media4.fl.yelpcdn.com/bphoto/ucLwFz...</td>\n",
       "      <td>False</td>\n",
       "      <td>https://www.yelp.com/biz/izakaya-raku-grover-b...</td>\n",
       "      <td>457</td>\n",
       "      <td>[{'alias': 'japanese', 'title': 'Japanese'}, {...</td>\n",
       "      <td>4.0</td>\n",
       "      <td>{'latitude': 35.1215891, 'longitude': -120.619...</td>\n",
       "      <td>[delivery]</td>\n",
       "      <td>$$</td>\n",
       "      <td>{'address1': '953 W Grand Ave', 'address2': ''...</td>\n",
       "      <td>18054749962</td>\n",
       "      <td>(805) 474-9962</td>\n",
       "      <td>277.293239</td>\n",
       "    </tr>\n",
       "    <tr>\n",
       "      <th>1</th>\n",
       "      <td>AuwhyKvo3YyYijodJ4I1cw</td>\n",
       "      <td>yamato-japanese-restaurant-grover-beach</td>\n",
       "      <td>Yamato Japanese Restaurant</td>\n",
       "      <td>https://s3-media2.fl.yelpcdn.com/bphoto/wS-7mh...</td>\n",
       "      <td>False</td>\n",
       "      <td>https://www.yelp.com/biz/yamato-japanese-resta...</td>\n",
       "      <td>281</td>\n",
       "      <td>[{'alias': 'sushi', 'title': 'Sushi Bars'}, {'...</td>\n",
       "      <td>4.0</td>\n",
       "      <td>{'latitude': 35.1211137, 'longitude': -120.609...</td>\n",
       "      <td>[delivery]</td>\n",
       "      <td>$$</td>\n",
       "      <td>{'address1': '1741 W Grand Ave', 'address2': '...</td>\n",
       "      <td>18054813986</td>\n",
       "      <td>(805) 481-3986</td>\n",
       "      <td>1044.173635</td>\n",
       "    </tr>\n",
       "    <tr>\n",
       "      <th>2</th>\n",
       "      <td>adsv__LSrv3R3qroS1YdMg</td>\n",
       "      <td>umi-sushi-pacifica-grover-beach</td>\n",
       "      <td>Umi Sushi Pacifica</td>\n",
       "      <td>https://s3-media2.fl.yelpcdn.com/bphoto/PFjJpO...</td>\n",
       "      <td>False</td>\n",
       "      <td>https://www.yelp.com/biz/umi-sushi-pacifica-gr...</td>\n",
       "      <td>304</td>\n",
       "      <td>[{'alias': 'sushi', 'title': 'Sushi Bars'}]</td>\n",
       "      <td>4.5</td>\n",
       "      <td>{'latitude': 35.121263, 'longitude': -120.6149...</td>\n",
       "      <td>[]</td>\n",
       "      <td>$$</td>\n",
       "      <td>{'address1': '1319 W Grand Ave', 'address2': '...</td>\n",
       "      <td>18054897424</td>\n",
       "      <td>(805) 489-7424</td>\n",
       "      <td>623.063433</td>\n",
       "    </tr>\n",
       "    <tr>\n",
       "      <th>3</th>\n",
       "      <td>G_j4Fv1dwMHsTh--IE83ng</td>\n",
       "      <td>sushi-805-grover-beach-3</td>\n",
       "      <td>Sushi 805</td>\n",
       "      <td>https://s3-media1.fl.yelpcdn.com/bphoto/LW7BQS...</td>\n",
       "      <td>False</td>\n",
       "      <td>https://www.yelp.com/biz/sushi-805-grover-beac...</td>\n",
       "      <td>383</td>\n",
       "      <td>[{'alias': 'japanese', 'title': 'Japanese'}, {...</td>\n",
       "      <td>3.5</td>\n",
       "      <td>{'latitude': 35.1214790344238, 'longitude': -1...</td>\n",
       "      <td>[pickup]</td>\n",
       "      <td>$$</td>\n",
       "      <td>{'address1': '460 W Grand Ave', 'address2': ''...</td>\n",
       "      <td>18054893839</td>\n",
       "      <td>(805) 489-3839</td>\n",
       "      <td>419.243400</td>\n",
       "    </tr>\n",
       "    <tr>\n",
       "      <th>4</th>\n",
       "      <td>EwS7GARoLyetjGEMN1VKFw</td>\n",
       "      <td>yanagi-sushi-and-grill-pismo-beach</td>\n",
       "      <td>Yanagi Sushi &amp; Grill</td>\n",
       "      <td>https://s3-media4.fl.yelpcdn.com/bphoto/ORdAjc...</td>\n",
       "      <td>False</td>\n",
       "      <td>https://www.yelp.com/biz/yanagi-sushi-and-gril...</td>\n",
       "      <td>494</td>\n",
       "      <td>[{'alias': 'sushi', 'title': 'Sushi Bars'}, {'...</td>\n",
       "      <td>3.5</td>\n",
       "      <td>{'latitude': 35.13703351637226, 'longitude': -...</td>\n",
       "      <td>[delivery, pickup]</td>\n",
       "      <td>$$</td>\n",
       "      <td>{'address1': '555 James Way', 'address2': None...</td>\n",
       "      <td>18057733535</td>\n",
       "      <td>(805) 773-3535</td>\n",
       "      <td>1905.272296</td>\n",
       "    </tr>\n",
       "  </tbody>\n",
       "</table>\n",
       "</div>"
      ],
      "text/plain": [
       "                       id                                    alias  \\\n",
       "0  MS7OyuKNSXUYP3OjXN4wQg                izakaya-raku-grover-beach   \n",
       "1  AuwhyKvo3YyYijodJ4I1cw  yamato-japanese-restaurant-grover-beach   \n",
       "2  adsv__LSrv3R3qroS1YdMg          umi-sushi-pacifica-grover-beach   \n",
       "3  G_j4Fv1dwMHsTh--IE83ng                 sushi-805-grover-beach-3   \n",
       "4  EwS7GARoLyetjGEMN1VKFw       yanagi-sushi-and-grill-pismo-beach   \n",
       "\n",
       "                         name  \\\n",
       "0                Izakaya Raku   \n",
       "1  Yamato Japanese Restaurant   \n",
       "2         Umi Sushi Pacifica    \n",
       "3                   Sushi 805   \n",
       "4        Yanagi Sushi & Grill   \n",
       "\n",
       "                                           image_url  is_closed  \\\n",
       "0  https://s3-media4.fl.yelpcdn.com/bphoto/ucLwFz...      False   \n",
       "1  https://s3-media2.fl.yelpcdn.com/bphoto/wS-7mh...      False   \n",
       "2  https://s3-media2.fl.yelpcdn.com/bphoto/PFjJpO...      False   \n",
       "3  https://s3-media1.fl.yelpcdn.com/bphoto/LW7BQS...      False   \n",
       "4  https://s3-media4.fl.yelpcdn.com/bphoto/ORdAjc...      False   \n",
       "\n",
       "                                                 url  review_count  \\\n",
       "0  https://www.yelp.com/biz/izakaya-raku-grover-b...           457   \n",
       "1  https://www.yelp.com/biz/yamato-japanese-resta...           281   \n",
       "2  https://www.yelp.com/biz/umi-sushi-pacifica-gr...           304   \n",
       "3  https://www.yelp.com/biz/sushi-805-grover-beac...           383   \n",
       "4  https://www.yelp.com/biz/yanagi-sushi-and-gril...           494   \n",
       "\n",
       "                                          categories  rating  \\\n",
       "0  [{'alias': 'japanese', 'title': 'Japanese'}, {...     4.0   \n",
       "1  [{'alias': 'sushi', 'title': 'Sushi Bars'}, {'...     4.0   \n",
       "2        [{'alias': 'sushi', 'title': 'Sushi Bars'}]     4.5   \n",
       "3  [{'alias': 'japanese', 'title': 'Japanese'}, {...     3.5   \n",
       "4  [{'alias': 'sushi', 'title': 'Sushi Bars'}, {'...     3.5   \n",
       "\n",
       "                                         coordinates        transactions  \\\n",
       "0  {'latitude': 35.1215891, 'longitude': -120.619...          [delivery]   \n",
       "1  {'latitude': 35.1211137, 'longitude': -120.609...          [delivery]   \n",
       "2  {'latitude': 35.121263, 'longitude': -120.6149...                  []   \n",
       "3  {'latitude': 35.1214790344238, 'longitude': -1...            [pickup]   \n",
       "4  {'latitude': 35.13703351637226, 'longitude': -...  [delivery, pickup]   \n",
       "\n",
       "  price                                           location        phone  \\\n",
       "0    $$  {'address1': '953 W Grand Ave', 'address2': ''...  18054749962   \n",
       "1    $$  {'address1': '1741 W Grand Ave', 'address2': '...  18054813986   \n",
       "2    $$  {'address1': '1319 W Grand Ave', 'address2': '...  18054897424   \n",
       "3    $$  {'address1': '460 W Grand Ave', 'address2': ''...  18054893839   \n",
       "4    $$  {'address1': '555 James Way', 'address2': None...  18057733535   \n",
       "\n",
       "    display_phone     distance  \n",
       "0  (805) 474-9962   277.293239  \n",
       "1  (805) 481-3986  1044.173635  \n",
       "2  (805) 489-7424   623.063433  \n",
       "3  (805) 489-3839   419.243400  \n",
       "4  (805) 773-3535  1905.272296  "
      ]
     },
     "metadata": {},
     "output_type": "display_data"
    },
    {
     "data": {
      "text/html": [
       "<div>\n",
       "<style scoped>\n",
       "    .dataframe tbody tr th:only-of-type {\n",
       "        vertical-align: middle;\n",
       "    }\n",
       "\n",
       "    .dataframe tbody tr th {\n",
       "        vertical-align: top;\n",
       "    }\n",
       "\n",
       "    .dataframe thead th {\n",
       "        text-align: right;\n",
       "    }\n",
       "</style>\n",
       "<table border=\"1\" class=\"dataframe\">\n",
       "  <thead>\n",
       "    <tr style=\"text-align: right;\">\n",
       "      <th></th>\n",
       "      <th>id</th>\n",
       "      <th>alias</th>\n",
       "      <th>name</th>\n",
       "      <th>image_url</th>\n",
       "      <th>is_closed</th>\n",
       "      <th>url</th>\n",
       "      <th>review_count</th>\n",
       "      <th>categories</th>\n",
       "      <th>rating</th>\n",
       "      <th>coordinates</th>\n",
       "      <th>transactions</th>\n",
       "      <th>price</th>\n",
       "      <th>location</th>\n",
       "      <th>phone</th>\n",
       "      <th>display_phone</th>\n",
       "      <th>distance</th>\n",
       "    </tr>\n",
       "  </thead>\n",
       "  <tbody>\n",
       "    <tr>\n",
       "      <th>22</th>\n",
       "      <td>MmIU0eYRmQarwj1VJiwrdA</td>\n",
       "      <td>the-spoon-trade-grover-beach</td>\n",
       "      <td>The Spoon Trade</td>\n",
       "      <td>https://s3-media2.fl.yelpcdn.com/bphoto/PfQ5vH...</td>\n",
       "      <td>False</td>\n",
       "      <td>https://www.yelp.com/biz/the-spoon-trade-grove...</td>\n",
       "      <td>861</td>\n",
       "      <td>[{'alias': 'newamerican', 'title': 'American (...</td>\n",
       "      <td>4.5</td>\n",
       "      <td>{'latitude': 35.122148717721295, 'longitude': ...</td>\n",
       "      <td>[delivery]</td>\n",
       "      <td>$$</td>\n",
       "      <td>{'address1': '295 W Grand Ave', 'address2': ''...</td>\n",
       "      <td>18059046773</td>\n",
       "      <td>(805) 904-6773</td>\n",
       "      <td>618.407190</td>\n",
       "    </tr>\n",
       "    <tr>\n",
       "      <th>23</th>\n",
       "      <td>Wnexm80_il0tuacoHyuzlg</td>\n",
       "      <td>new-earth-superfoods-grover-beach</td>\n",
       "      <td>New Earth Superfoods</td>\n",
       "      <td>https://s3-media2.fl.yelpcdn.com/bphoto/KCXx8l...</td>\n",
       "      <td>False</td>\n",
       "      <td>https://www.yelp.com/biz/new-earth-superfoods-...</td>\n",
       "      <td>14</td>\n",
       "      <td>[{'alias': 'juicebars', 'title': 'Juice Bars &amp;...</td>\n",
       "      <td>5.0</td>\n",
       "      <td>{'latitude': 35.11998, 'longitude': -120.6088233}</td>\n",
       "      <td>[delivery, pickup]</td>\n",
       "      <td>NaN</td>\n",
       "      <td>{'address1': '191 Oak Park Blvd', 'address2': ...</td>\n",
       "      <td>18055922450</td>\n",
       "      <td>(805) 592-2450</td>\n",
       "      <td>1157.192127</td>\n",
       "    </tr>\n",
       "    <tr>\n",
       "      <th>24</th>\n",
       "      <td>6SuwBmAUS9v370ZitiE38Q</td>\n",
       "      <td>the-garden-grille-and-bar-pismo-beach-2</td>\n",
       "      <td>The Garden Grille and Bar</td>\n",
       "      <td>https://s3-media3.fl.yelpcdn.com/bphoto/R_jljB...</td>\n",
       "      <td>False</td>\n",
       "      <td>https://www.yelp.com/biz/the-garden-grille-and...</td>\n",
       "      <td>5</td>\n",
       "      <td>[{'alias': 'sushi', 'title': 'Sushi Bars'}, {'...</td>\n",
       "      <td>3.0</td>\n",
       "      <td>{'latitude': 35.13684779341118, 'longitude': -...</td>\n",
       "      <td>[]</td>\n",
       "      <td>NaN</td>\n",
       "      <td>{'address1': '601 James St', 'address2': '', '...</td>\n",
       "      <td>18057736020</td>\n",
       "      <td>(805) 773-6020</td>\n",
       "      <td>1886.753919</td>\n",
       "    </tr>\n",
       "    <tr>\n",
       "      <th>25</th>\n",
       "      <td>21gVk08-Twn1CeW5SFhd3Q</td>\n",
       "      <td>vons-grover-beach</td>\n",
       "      <td>Vons</td>\n",
       "      <td>https://s3-media3.fl.yelpcdn.com/bphoto/pJdUMc...</td>\n",
       "      <td>False</td>\n",
       "      <td>https://www.yelp.com/biz/vons-grover-beach?adj...</td>\n",
       "      <td>135</td>\n",
       "      <td>[{'alias': 'grocery', 'title': 'Grocery'}]</td>\n",
       "      <td>3.0</td>\n",
       "      <td>{'latitude': 35.1199029902995, 'longitude': -1...</td>\n",
       "      <td>[]</td>\n",
       "      <td>$$</td>\n",
       "      <td>{'address1': '1758 W Grand Ave', 'address2': '...</td>\n",
       "      <td>18054810877</td>\n",
       "      <td>(805) 481-0877</td>\n",
       "      <td>1018.411376</td>\n",
       "    </tr>\n",
       "    <tr>\n",
       "      <th>26</th>\n",
       "      <td>WbrSizq1WSByciaUtcV53g</td>\n",
       "      <td>smart-and-final-extra-arroyo-grande-5</td>\n",
       "      <td>Smart &amp; Final Extra!</td>\n",
       "      <td>https://s3-media1.fl.yelpcdn.com/bphoto/rDDIUv...</td>\n",
       "      <td>False</td>\n",
       "      <td>https://www.yelp.com/biz/smart-and-final-extra...</td>\n",
       "      <td>59</td>\n",
       "      <td>[{'alias': 'grocery', 'title': 'Grocery'}]</td>\n",
       "      <td>2.5</td>\n",
       "      <td>{'latitude': 35.122127532959, 'longitude': -12...</td>\n",
       "      <td>[]</td>\n",
       "      <td>$$</td>\n",
       "      <td>{'address1': '1464 E Grand Ave', 'address2': '...</td>\n",
       "      <td>18055741599</td>\n",
       "      <td>(805) 574-1599</td>\n",
       "      <td>1458.523639</td>\n",
       "    </tr>\n",
       "  </tbody>\n",
       "</table>\n",
       "</div>"
      ],
      "text/plain": [
       "                        id                                    alias  \\\n",
       "22  MmIU0eYRmQarwj1VJiwrdA             the-spoon-trade-grover-beach   \n",
       "23  Wnexm80_il0tuacoHyuzlg        new-earth-superfoods-grover-beach   \n",
       "24  6SuwBmAUS9v370ZitiE38Q  the-garden-grille-and-bar-pismo-beach-2   \n",
       "25  21gVk08-Twn1CeW5SFhd3Q                        vons-grover-beach   \n",
       "26  WbrSizq1WSByciaUtcV53g    smart-and-final-extra-arroyo-grande-5   \n",
       "\n",
       "                         name  \\\n",
       "22            The Spoon Trade   \n",
       "23       New Earth Superfoods   \n",
       "24  The Garden Grille and Bar   \n",
       "25                       Vons   \n",
       "26       Smart & Final Extra!   \n",
       "\n",
       "                                            image_url  is_closed  \\\n",
       "22  https://s3-media2.fl.yelpcdn.com/bphoto/PfQ5vH...      False   \n",
       "23  https://s3-media2.fl.yelpcdn.com/bphoto/KCXx8l...      False   \n",
       "24  https://s3-media3.fl.yelpcdn.com/bphoto/R_jljB...      False   \n",
       "25  https://s3-media3.fl.yelpcdn.com/bphoto/pJdUMc...      False   \n",
       "26  https://s3-media1.fl.yelpcdn.com/bphoto/rDDIUv...      False   \n",
       "\n",
       "                                                  url  review_count  \\\n",
       "22  https://www.yelp.com/biz/the-spoon-trade-grove...           861   \n",
       "23  https://www.yelp.com/biz/new-earth-superfoods-...            14   \n",
       "24  https://www.yelp.com/biz/the-garden-grille-and...             5   \n",
       "25  https://www.yelp.com/biz/vons-grover-beach?adj...           135   \n",
       "26  https://www.yelp.com/biz/smart-and-final-extra...            59   \n",
       "\n",
       "                                           categories  rating  \\\n",
       "22  [{'alias': 'newamerican', 'title': 'American (...     4.5   \n",
       "23  [{'alias': 'juicebars', 'title': 'Juice Bars &...     5.0   \n",
       "24  [{'alias': 'sushi', 'title': 'Sushi Bars'}, {'...     3.0   \n",
       "25         [{'alias': 'grocery', 'title': 'Grocery'}]     3.0   \n",
       "26         [{'alias': 'grocery', 'title': 'Grocery'}]     2.5   \n",
       "\n",
       "                                          coordinates        transactions  \\\n",
       "22  {'latitude': 35.122148717721295, 'longitude': ...          [delivery]   \n",
       "23  {'latitude': 35.11998, 'longitude': -120.6088233}  [delivery, pickup]   \n",
       "24  {'latitude': 35.13684779341118, 'longitude': -...                  []   \n",
       "25  {'latitude': 35.1199029902995, 'longitude': -1...                  []   \n",
       "26  {'latitude': 35.122127532959, 'longitude': -12...                  []   \n",
       "\n",
       "   price                                           location        phone  \\\n",
       "22    $$  {'address1': '295 W Grand Ave', 'address2': ''...  18059046773   \n",
       "23   NaN  {'address1': '191 Oak Park Blvd', 'address2': ...  18055922450   \n",
       "24   NaN  {'address1': '601 James St', 'address2': '', '...  18057736020   \n",
       "25    $$  {'address1': '1758 W Grand Ave', 'address2': '...  18054810877   \n",
       "26    $$  {'address1': '1464 E Grand Ave', 'address2': '...  18055741599   \n",
       "\n",
       "     display_phone     distance  \n",
       "22  (805) 904-6773   618.407190  \n",
       "23  (805) 592-2450  1157.192127  \n",
       "24  (805) 773-6020  1886.753919  \n",
       "25  (805) 481-0877  1018.411376  \n",
       "26  (805) 574-1599  1458.523639  "
      ]
     },
     "metadata": {},
     "output_type": "display_data"
    }
   ],
   "source": [
    "# load final results\n",
    "final_df = pd.read_json(JSON_FILE)\n",
    "display(final_df.head(), final_df.tail())"
   ]
  },
  {
   "cell_type": "code",
   "execution_count": 20,
   "id": "8677add1",
   "metadata": {},
   "outputs": [
    {
     "data": {
      "text/plain": [
       "0"
      ]
     },
     "execution_count": 20,
     "metadata": {},
     "output_type": "execute_result"
    }
   ],
   "source": [
    "# check for duplicate results\n",
    "final_df.duplicated(subset='id').sum()"
   ]
  },
  {
   "cell_type": "code",
   "execution_count": 21,
   "id": "5e3125e6",
   "metadata": {},
   "outputs": [],
   "source": [
    "final_df.to_csv('Data/final_results_GB_Sushi.csv.gz', compression='gzip',index=False)"
   ]
  },
  {
   "cell_type": "code",
   "execution_count": null,
   "id": "a029b52a",
   "metadata": {},
   "outputs": [],
   "source": []
  }
 ],
 "metadata": {
  "kernelspec": {
   "display_name": "Python (dojo-env)",
   "language": "python",
   "name": "dojo-env"
  },
  "language_info": {
   "codemirror_mode": {
    "name": "ipython",
    "version": 3
   },
   "file_extension": ".py",
   "mimetype": "text/x-python",
   "name": "python",
   "nbconvert_exporter": "python",
   "pygments_lexer": "ipython3",
   "version": "3.9.15"
  },
  "toc": {
   "base_numbering": 1,
   "nav_menu": {},
   "number_sections": false,
   "sideBar": true,
   "skip_h1_title": false,
   "title_cell": "Table of Contents",
   "title_sidebar": "Contents",
   "toc_cell": false,
   "toc_position": {},
   "toc_section_display": true,
   "toc_window_display": false
  }
 },
 "nbformat": 4,
 "nbformat_minor": 5
}
